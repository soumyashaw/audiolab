{
 "cells": [
  {
   "cell_type": "code",
   "execution_count": 2,
   "id": "subjective-strand",
   "metadata": {},
   "outputs": [],
   "source": [
    "import os\n",
    "import sys\n",
    "import itertools\n",
    "import numpy as np\n",
    "\n",
    "from scipy import stats\n",
    "\n",
    "# These libs are for figure plotting\n",
    "# Make sure that project-NN-Pytorch-scripts in your PYTHONPATH\n",
    "from tutorials.plot_tools import plot_API\n",
    "from tutorials.plot_tools import plot_lib"
   ]
  },
  {
   "cell_type": "markdown",
   "id": "german-longer",
   "metadata": {},
   "source": [
    "# How to use\n",
    "\n",
    "1. Check the Example sections;\n",
    "\n",
    "2. If you have time read Introduction below, otherwise skip it;\n",
    "\n",
    "3. Run the script by yourself, or use it on your own data.\n",
    "\n"
   ]
  },
  {
   "cell_type": "markdown",
   "id": "interpreted-passing",
   "metadata": {},
   "source": [
    "# Introduction\n",
    "\n",
    "## Issue 1\n",
    "In many cases, it is unsound to claim that the algorithm in system A is better than that in system B because the system A achieved 1.92% EER while B got 2.01%. Sometimes the difference between EERs (1.92% vs 2.01%) is purely due to some random factors other than the technical difference between A and B. \n",
    "\n",
    "It is helpful to run the experiments multiple times and compute the average results. Another tool is a statistical significance test. Although it is a silver bullet, it can help. A statistical significance test compares EERs of multiple CMs and judges whether the difference between each pair of EERs is statistical significant. \n",
    "Given the EERs of system A and B, it assumes that system A and B are `the same`, computes a few statitics, measures the probablity of observing each statistic, and suggests an answer.\n",
    "\n",
    "The answer would be either:\n",
    "\n",
    "* Given the assumption that A and B are `the same` (null hypothesis), the computed probability suggests that, if we repeat the experiments many times (say $M$), more than $\\alpha M$ times, we will see that the difference between the EERs of A and B will be larger than the difference between 1.92% and 2.01%. Even under the null hypothesis (A and B are the same!), the chance to observe a difference as large as abs(1.92% - 2.01%) is **not rare**, how can we believe that A and B are intrinsically different?  **Thus, we cannot reject the null hypothesis which assumes that A and B are `the same`;**\n",
    "\n",
    "* Given the assumption that A and B are `the same` (null hypothesis), the computed probability suggests that, if we repeat the experiments many times (say $M$), less than $\\alpha M$ times, we will see that the difference between the EERs of A and B will be larger than the difference between 1.92% and 2.01%. Therefore, under the null hypothesis (A and B are the same!), the chance to observe a difference as large as abs(1.92% - 2.01%) is **rare**, and we have strong evidence to believe that A and B are intrinsically different. **Thus, we can reject the null hypothesis which assumes that A and B are `the same`;**\n",
    "\n",
    "$\\alpha$ is the significance level, which is usually 0.01, 0.05, or 0.1.\n",
    "\n",
    "## Issue 2\n",
    "\n",
    "Then more tests we do, the higher chance we will find at least one significant difference.  In this case, we can adjust the $\\alpha$ and be more conservative when judge the significance of the difference. This is done through methods called correction.  Here, we will use Holm-Bonferroni correction.\n",
    "\n",
    "\n",
    "## Reference\n",
    "\n",
    "I am not confident to explain the theory. Let me know if my explaination is incorrect. This notebook are based on the following references:\n",
    "\n",
    "* Online textbook on significance test: Richard Lowry, Concepts & Applications of Inferential Statistics http://vassarstats.net/textbook/\n",
    "\n",
    "* Significance test for biometric, used in this notebook: Samy Bengio, and Johnny Mariéthoz. A Statistical Significance Test for Person Authentication. In Proc. Odyssey. 2004.\n",
    "\n",
    "* Correction in multiple comparisons (multiple significance tests): Hervé Abdi, and others. Bonferroni and Šidák Corrections for Multiple Comparisons. Encyclopedia of Measurement and Statistics 3. Sage Thousand Oaks, CA: 103–107. 2007."
   ]
  },
  {
   "cell_type": "markdown",
   "id": "applied-confidence",
   "metadata": {},
   "source": [
    "# Functions\n",
    "\n",
    "Some functions for convenience"
   ]
  },
  {
   "cell_type": "markdown",
   "id": "australian-subcommittee",
   "metadata": {
    "toc-hr-collapsed": true
   },
   "source": [
    "## For equal error rate computation"
   ]
  },
  {
   "cell_type": "code",
   "execution_count": 3,
   "id": "inner-blogger",
   "metadata": {},
   "outputs": [],
   "source": [
    "# From ASVspoof official tDCF https://www.asvspoof.org/resources/tDCF_python_v2.zip\n",
    "\n",
    "def compute_det_curve(target_scores, nontarget_scores):\n",
    "\n",
    "    n_scores = target_scores.size + nontarget_scores.size\n",
    "    all_scores = np.concatenate((target_scores, nontarget_scores))\n",
    "    labels = np.concatenate((np.ones(target_scores.size),\n",
    "                             np.zeros(nontarget_scores.size)))\n",
    "\n",
    "    # Sort labels based on scores                                                         \n",
    "    indices = np.argsort(all_scores, kind='mergesort')\n",
    "    labels = labels[indices]\n",
    "\n",
    "    # Compute false rejection and false acceptance rates                                  \n",
    "    tar_trial_sums = np.cumsum(labels)\n",
    "    nontarget_trial_sums = (nontarget_scores.size -\n",
    "                            (np.arange(1, n_scores + 1) - tar_trial_sums))\n",
    "\n",
    "    frr = np.concatenate((np.atleast_1d(0), tar_trial_sums/target_scores.size))\n",
    "    # false rejection rates                                                               \n",
    "    far = np.concatenate((np.atleast_1d(1),\n",
    "                          nontarget_trial_sums / nontarget_scores.size))\n",
    "    # false acceptance rates                                                              \n",
    "    thresholds = np.concatenate((np.atleast_1d(all_scores[indices[0]] - 0.001),\n",
    "                                 all_scores[indices]))\n",
    "    # Thresholds are the sorted scores                                                    \n",
    "    return frr, far, thresholds\n",
    "\n",
    "\n",
    "def compute_eer(target_scores, nontarget_scores):\n",
    "    \"\"\" Returns equal error rate (EER) and the corresponding threshold. \"\"\"\n",
    "    frr, far, thresholds = compute_det_curve(target_scores, nontarget_scores)\n",
    "    abs_diffs = np.abs(frr - far)\n",
    "    min_index = np.argmin(abs_diffs)\n",
    "    eer = np.mean((frr[min_index], far[min_index]))\n",
    "    return eer, thresholds[min_index]\n"
   ]
  },
  {
   "cell_type": "markdown",
   "id": "quantitative-redhead",
   "metadata": {},
   "source": [
    "## For z-value computation\n",
    "\n",
    "This is based on Samy Bengio, and Johnny Mariéthoz. A Statistical Significance Test for Person Authentication. In Proc. Odyssey. 2004."
   ]
  },
  {
   "cell_type": "code",
   "execution_count": 4,
   "id": "optional-bangladesh",
   "metadata": {},
   "outputs": [],
   "source": [
    "def compute_z_independent(far_a, frr_a, far_b, frr_b, NI, NC):\n",
    "    \"\"\"z = compute_HTER_independent(hter_a, hter_b, NI, NC)\n",
    "    \n",
    "    Bengio, S. & Mariéthoz, J. A statistical significance test for \n",
    "    person authentication. in Proc. Odyssey (2004). \n",
    "    \n",
    "    Fig2. independent case\n",
    "    \n",
    "    input\n",
    "    -----\n",
    "      far_a: float, far of system a, which be >=0 and <=1\n",
    "      frr_a: float, frr of system a, which be >=0 and <=1\n",
    "      far_b: float, far of system b, which be >=0 and <=1\n",
    "      frr_b: float, frr of system b, which be >=0 and <=1\n",
    "      NI: int, the number of impostor accesses.\n",
    "      NC: int, the number of client accesses.\n",
    "      \n",
    "    output\n",
    "    ------\n",
    "      z: float, statitics of the hypothesis test\n",
    "    \"\"\"\n",
    "    # \n",
    "    hter_a = (far_a + frr_a)/2\n",
    "    hter_b = (far_b + frr_b)/2\n",
    "    denominator  = (far_a * (1 - far_a) + far_b * (1 - far_b)) / 4 / NI \n",
    "    denominator += (frr_a * (1 - frr_a) + frr_b * (1 - frr_b)) / 4 / NC \n",
    "    return np.abs(hter_a - hter_b) / np.sqrt(denominator)\n",
    "    \n",
    "    \n",
    "def compute_z_dependent(far_ab, frr_ab, far_ba, frr_ba, NI, NC):\n",
    "    \"\"\"z = compute_HTER_independent(hter_a, hter_b, NI, NC)\n",
    "    \n",
    "    Bengio, S. & Mariéthoz, J. A statistical significance test for \n",
    "    person authentication. in Proc. Odyssey (2004). \n",
    "    \n",
    "    Fig2. dependent case\n",
    "    \n",
    "    input\n",
    "    -----\n",
    "      far_ab: float, see paper\n",
    "      frr_ab: float, see paper \n",
    "      far_ba: float, see paper \n",
    "      frr_ba: float, see paper \n",
    "      NI: int, the number of impostor accesses.\n",
    "      NC: int, the number of client accesses.\n",
    "      \n",
    "    output\n",
    "    ------\n",
    "      z: float, statitics of the hypothesis test\n",
    "    \"\"\"\n",
    "    # \n",
    "    if far_ab == far_ba and frr_ab == frr_ba:\n",
    "        return 0\n",
    "    else:\n",
    "        denominator = np.sqrt((far_ab + far_ba) / (4 * NI) + (frr_ab + frr_ba) / (4 * NC))\n",
    "        return np.abs(far_ab + frr_ab - far_ba - frr_ba) / denominator\n",
    "\n",
    "    \n",
    "\n",
    "def get_eer(scores_positive, scores_negative):\n",
    "    \"\"\"eer, threshold = get_eer(scores_positive, scores_negative)\n",
    "    \n",
    "    compute Equal Error Rate given input scores\n",
    "    \n",
    "    input\n",
    "    -----\n",
    "      scores_positive: np.array, scores of positive class\n",
    "      scores_negative: np.array, scores of negative class\n",
    "    \n",
    "    output\n",
    "    ------\n",
    "      eer: float, equal error rate\n",
    "      threshold: float, the threshold for the err\n",
    "      \n",
    "    \"\"\"\n",
    "    return compute_eer(scores_positive, scores_negative)\n",
    "    \n",
    "    \n",
    "def get_far_frr_dependent(bona_score_a, spoof_score_a, threshold_a, \n",
    "                          bona_score_b, spoof_score_b, threshold_b, \n",
    "                          NI, NC):\n",
    "    \"\"\"\n",
    "    \"\"\"\n",
    "    far_ab_idx = np.bitwise_and(spoof_score_a < threshold_a, spoof_score_b >= threshold_b)\n",
    "    far_ba_idx = np.bitwise_and(spoof_score_a >= threshold_a, spoof_score_b < threshold_b)\n",
    "    frr_ab_idx = np.bitwise_and(bona_score_a >= threshold_a, bona_score_b < threshold_b)\n",
    "    frr_ba_idx = np.bitwise_and(bona_score_a < threshold_a, bona_score_b >= threshold_b)\n",
    "\n",
    "    far_ab = np.sum(far_ab_idx) / NI\n",
    "    far_ba = np.sum(far_ba_idx) / NI\n",
    "    frr_ab = np.sum(frr_ab_idx) / NC\n",
    "    frr_ba = np.sum(frr_ba_idx) / NC\n",
    "    return far_ab, far_ba, frr_ab, frr_ba\n"
   ]
  },
  {
   "cell_type": "markdown",
   "id": "amazing-petite",
   "metadata": {},
   "source": [
    "## For significant test and correction\n"
   ]
  },
  {
   "cell_type": "code",
   "execution_count": 5,
   "id": "elementary-wellington",
   "metadata": {},
   "outputs": [
    {
     "name": "stdout",
     "output_type": "stream",
     "text": [
      "Z_alpha/2 for 90% CI (alpha=0.10): 1.6449\n",
      "Z_alpha/2 for 95% CI (alpha=0.05): 1.9600\n",
      "Z_alpha/2 for 99% CI (alpha=0.01): 2.5758\n"
     ]
    }
   ],
   "source": [
    "# Note\n",
    "# Bengio, S. & Mariéthoz, J. A statistical significance test for person authentication. in Proc. Odyssey (2004). \n",
    "# assumes two-sided test\n",
    "# Z_alpha/2 in Fig.2 of the above paper\n",
    "\n",
    "def compute_Z_alpha2(significance_level, alternative='two-sided'):\n",
    "    if alternative == 'less':\n",
    "        Z_alpha2 = stats.norm.ppf(significance_level)\n",
    "    elif alternative == 'greater':\n",
    "        Z_alpha2 = stats.norm.isf(significance_level)\n",
    "    elif alternative == 'two-sided':\n",
    "        Z_alpha2 = stats.norm.isf(significance_level/2)\n",
    "    else:\n",
    "        raise ValueError(\"alternative must be \"\n",
    "                         \"'less', 'greater' or 'two-sided'\")\n",
    "    return Z_alpha2\n",
    "\n",
    "print(\"Z_alpha/2 for 90% CI (alpha=0.10): {:.4f}\".format(compute_Z_alpha2(0.10)))\n",
    "print(\"Z_alpha/2 for 95% CI (alpha=0.05): {:.4f}\".format(compute_Z_alpha2(0.05)))\n",
    "print(\"Z_alpha/2 for 99% CI (alpha=0.01): {:.4f}\".format(compute_Z_alpha2(0.01)))"
   ]
  },
  {
   "cell_type": "markdown",
   "id": "sophisticated-programmer",
   "metadata": {},
   "source": [
    "We need to compute the z_value for two systems in comparison. We then compare the z_value with the Z_alpha/2 above.\n",
    "\n",
    "* If $z > Z_{\\alpha/2}$, we reject the null hypothesis, and we cannot say that the two systems are not significantly different. \n",
    "\n",
    "* else, we CANNOT reject the null hypothesis \n"
   ]
  },
  {
   "cell_type": "markdown",
   "id": "realistic-patient",
   "metadata": {},
   "source": [
    "However, the more tests we do, the higher chance that we will find a large z_value that will reject the null hypothesis.\n",
    "\n",
    "For more tests, we need to adjust $Z_{\\alpha/2}$ and make it more difficult to reject the null hypothesis. This is called \"Correction\", and this topic is covered in Reference 2 above.\n",
    "\n",
    "Below are functions for some of the correction methods"
   ]
  },
  {
   "cell_type": "code",
   "execution_count": 6,
   "id": "hispanic-stroke",
   "metadata": {},
   "outputs": [],
   "source": [
    "# Hypothesis testing with correction\n",
    "#\n",
    "def reject_null_bonferroni_naive(z_values, num_test, significance_level, alternative='two-sided', \n",
    "                                 accept_value=True, reject_value=False):\n",
    "    \"\"\"result = reject_null_bonferroni_naive(z_values, significance_level)\n",
    "    \n",
    "    native bonferroni correction\n",
    "    https://en.wikipedia.org/wiki/Bonferroni_correction\n",
    "    \n",
    "    input\n",
    "    -----\n",
    "      z_values: np.array, an array of z_value\n",
    "      num_test: int, number of tests in the experiment\n",
    "      signifiance_level: float, common choise is 0.1, 0.05, or 0.01\n",
    "\n",
    "    output\n",
    "    ------\n",
    "      result: np.array, same size as z_values, if result[i] is True if z_value[i]\n",
    "         is larger than the threshold\n",
    "    \"\"\"\n",
    "    #num_test = z_values.size\n",
    "    corrected_conf_level = significance_level / num_test\n",
    "    Z_alpha2 = compute_Z_alpha2(corrected_conf_level, alternative)\n",
    "\n",
    "    # reject null hypothesis\n",
    "    idx_reject = z_values > Z_alpha2\n",
    "    # acccept null hypothesis\n",
    "    idx_accept = z_values <= Z_alpha2\n",
    "    \n",
    "    result = np.zeros(z_values.shape)\n",
    "    result[idx_accept] = accept_value\n",
    "    result[idx_reject] = reject_value\n",
    "    return result\n",
    "\n",
    "\n",
    "def reject_null_sidak(z_values, num_test, significance_level, alternative='two-sided', \n",
    "                      accept_value=True, reject_value=False):\n",
    "    \"\"\" similar API to reject_null_bonferroni_naive\n",
    "    \n",
    "    See Hervé Abdi, and others. Bonferroni and Šidák Corrections for Multiple Comparisons. \n",
    "    Encyclopedia of Measurement and Statistics 3. Sage Thousand Oaks, CA: 103–107. 2007.\n",
    "    \"\"\"\n",
    "    #num_test = z_values.size\n",
    "    #FWER = 1 - (1 - significance_level) ** (1 / num_test)\n",
    "    corrected_conf_level = 1 - (1 - significance_level) ** (1 / num_test)\n",
    "    Z_alpha2 = compute_Z_alpha2(corrected_conf_level, alternative)\n",
    "    \n",
    "    idx_reject = z_values >= Z_alpha2\n",
    "    idx_accept = z_values < Z_alpha2\n",
    "    result = np.zeros(z_values.shape)\n",
    "    result[idx_accept] = accept_value\n",
    "    result[idx_reject] = reject_value\n",
    "    return result\n",
    "\n",
    "\n",
    "def reject_null_holm_bonferroni(z_values, num_test, significance_level, alternative='two-sided', \n",
    "                                accept_value=True, reject_value=False):\n",
    "    \"\"\" similar API to reject_null_bonferroni_naive\n",
    "    \n",
    "    See https://en.wikipedia.org/wiki/Holm%E2%80%93Bonferroni_method\n",
    "    \"\"\"\n",
    "    # get the index of each z_value in the sorted array\n",
    "    # large z corresponds to small p\n",
    "    # we start with the case where the z is the largest\n",
    "    order = np.argsort(z_values.flatten())[::-1]\n",
    "    \n",
    "    # a result buffer, by default, set all to accept\n",
    "    result_buff = np.zeros(order.shape) + accept_value\n",
    "    \n",
    "    # conduct the test \n",
    "    for test_idx, data_idx in enumerate(order):\n",
    "        # the test coming first should receive a more strict Z_alpha\n",
    "        corrected_conf_level = significance_level / (num_test - test_idx)\n",
    "        Z_alpha2 = compute_Z_alpha2(corrected_conf_level, alternative)\n",
    "        #print(corrected_conf_level)\n",
    "        if z_values.flatten()[data_idx] < Z_alpha2:\n",
    "            # if we cannot reject, stop testing\n",
    "            result_buff[data_idx] = accept_value\n",
    "            break\n",
    "        else:\n",
    "            result_buff[data_idx] = reject_value\n",
    "    \n",
    "    return np.reshape(result_buff, z_values.shape)\n",
    "\n",
    "\n",
    "def reject_null_holm_bonferroni_given_p_value(p_values, num_test, significance_level, \n",
    "                                              accept_value=True, reject_value=False):\n",
    "    \"\"\" Demonstration given p_values\n",
    "    See Example in https://en.wikipedia.org/wiki/Holm%E2%80%93Bonferroni_method\n",
    "    \"\"\"\n",
    "    # get the index of each p_value in the sorted array\n",
    "    # small p comes first\n",
    "    order = np.argsort(p_values.flatten())\n",
    "    \n",
    "    # a result buffer, by default, set all to accept\n",
    "    result_buff = np.zeros(order.shape) + accept_value\n",
    "    \n",
    "    # conduct the test \n",
    "    for test_idx, data_idx in enumerate(order):\n",
    "        # the test coming first should receive a more strict Z_alpha\n",
    "        corrected_conf_level = significance_level / (num_test - test_idx)\n",
    "        \n",
    "        print(\"Compare p-value {:.3f} with corrected alpha {:.4f}\".format(\n",
    "            p_values.flatten()[data_idx], corrected_conf_level), end=' ')\n",
    "        # here smaller p_value is more significant\n",
    "        if p_values.flatten()[data_idx] > corrected_conf_level:\n",
    "            # if we cannot reject, stop testing\n",
    "            result_buff[data_idx] = accept_value\n",
    "            print(\"accept NULL, stop\")\n",
    "            break\n",
    "        else:\n",
    "            result_buff[data_idx] = reject_value\n",
    "            print(\"reject NULL\")\n",
    "    \n",
    "    return np.reshape(result_buff, p_values.shape)\n"
   ]
  },
  {
   "cell_type": "code",
   "execution_count": 7,
   "id": "twelve-superior",
   "metadata": {},
   "outputs": [
    {
     "name": "stdout",
     "output_type": "stream",
     "text": [
      "Compare p-value 0.005 with corrected alpha 0.0125 reject NULL\n",
      "Compare p-value 0.010 with corrected alpha 0.0167 reject NULL\n",
      "Compare p-value 0.030 with corrected alpha 0.0250 accept NULL, stop\n",
      "[[0. 1.]\n",
      " [1. 0.]]\n"
     ]
    }
   ],
   "source": [
    "# Here is one example using p-values for the test\n",
    "# See example in https://en.wikipedia.org/wiki/Holm%E2%80%93Bonferroni_method\n",
    "# Note that this example uses p_value, \n",
    "# a smaller p_value indicates higher confidence to reject NULL\n",
    "\n",
    "# While in S.Bengio's paper, the paper is conducted given a z_value \n",
    "# Thus the API is different\n",
    "p_values = np.array([[0.01, 0.04], [0.03, 0.005]])\n",
    "print(reject_null_holm_bonferroni_given_p_value(p_values, 4, 0.05))\n",
    "\n",
    "# 0.01 and 0.005 are rejected while 0.04 and 0.03 are accepted"
   ]
  },
  {
   "cell_type": "markdown",
   "id": "absent-singapore",
   "metadata": {},
   "source": [
    "# Example\n",
    "\n",
    "For significance test on CM, we first need to get the EERs.\n",
    "\n",
    "Given the EERs, and number of trials for bonafide / spoof, we can conduct significance tests."
   ]
  },
  {
   "cell_type": "markdown",
   "id": "pressing-signature",
   "metadata": {},
   "source": [
    "## Hypothesis test for model A and B"
   ]
  },
  {
   "cell_type": "markdown",
   "id": "based-jones",
   "metadata": {},
   "source": [
    "Create two sets of score distributions for A and B, compute EERs, and conduct hypothesis test"
   ]
  },
  {
   "cell_type": "code",
   "execution_count": 8,
   "id": "august-pointer",
   "metadata": {},
   "outputs": [
    {
     "data": {
      "image/png": "[encoded data removed]",
      "text/plain": [
       "<Figure size 720x576 with 2 Axes>"
      ]
     },
     "metadata": {
      "needs_background": "light"
     },
     "output_type": "display_data"
    }
   ],
   "source": [
    "# produce scores for model A and B\n",
    "# number of trials for bona fide (positive class)\n",
    "NC = 5000\n",
    "# number of trials for spoof (negative class)\n",
    "NI = 7500\n",
    "\n",
    "model_A_bonafide_scores = np.random.randn(NC) + 2.0\n",
    "model_A_spoof_scores = np.random.randn(NI) - 2.0\n",
    "eer_A, threshold_A = get_eer(model_A_bonafide_scores, model_A_spoof_scores)\n",
    "\n",
    "\n",
    "model_B_bonafide_scores = np.random.randn(NC) + 1.9\n",
    "model_B_spoof_scores = np.random.randn(NI) - 1.9\n",
    "eer_B, threshold_B = get_eer(model_B_bonafide_scores, model_B_spoof_scores)\n",
    "\n",
    "\n",
    "# plotting\n",
    "threshold_line_A = np.array([[threshold_A, 0], [threshold_A, 0.4]])\n",
    "threshold_line_B = np.array([[threshold_B, 0], [threshold_B, 0.4]])\n",
    "\n",
    "fig, axis = plot_API.plot_API2(\n",
    "    [model_A_bonafide_scores, model_A_spoof_scores, threshold_line_A,\n",
    "     model_B_bonafide_scores, model_B_spoof_scores, threshold_line_B], \n",
    "    [plot_lib.plot_hist, plot_lib.plot_hist, plot_lib.plot_signal,\n",
    "     plot_lib.plot_hist, plot_lib.plot_hist, plot_lib.plot_signal], \n",
    "    [[[0, 1], [0, 1]] for x in range(3)] + [[[1, 2], [0, 1]] for x in range(3)], \n",
    "    {'figsize': (10, 8), 'sharex': True,\n",
    "     'subtitle': [{'title': 'score distribution model A, EER {:.3f}\\%'.format(eer_A*100)},{},{},\n",
    "                  {'title': 'score distribution model B, EER {:.3f}\\%'.format(eer_B*100)},{},{}]})"
   ]
  },
  {
   "cell_type": "markdown",
   "id": "indirect-interval",
   "metadata": {},
   "source": [
    "Do significance test using the EERs"
   ]
  },
  {
   "cell_type": "code",
   "execution_count": 9,
   "id": "secondary-membrane",
   "metadata": {},
   "outputs": [
    {
     "name": "stdout",
     "output_type": "stream",
     "text": [
      "Reject Null hypothesis, and we cannot say that model A and B's performance are not significantly different\n"
     ]
    }
   ],
   "source": [
    "# input\n",
    "z_value = compute_z_independent(eer_A, eer_A, eer_B, eer_B, NI, NC) #Here, EER = FAR = FRR = HTER\n",
    "significance_level = 0.05\n",
    "\n",
    "# output\n",
    "#. the number of test is 1 for this examples\n",
    "test_output_mat = reject_null_holm_bonferroni(np.array([z_value]), z_value.size, significance_level)\n",
    "\n",
    "\n",
    "if test_output_mat[0]:\n",
    "    print(\"Accept Null hypothesis, and we can say that model A and B's performance are not significantly different\")\n",
    "else:\n",
    "    print(\"Reject Null hypothesis, and we cannot say that model A and B's performance are not significantly different\")"
   ]
  },
  {
   "cell_type": "markdown",
   "id": "manual-boulder",
   "metadata": {},
   "source": [
    "## Hypothesis test for model A, B, C, D"
   ]
  },
  {
   "cell_type": "markdown",
   "id": "secure-probe",
   "metadata": {},
   "source": [
    "Example to compare system A, B, C, D"
   ]
  },
  {
   "cell_type": "code",
   "execution_count": 10,
   "id": "equipped-sapphire",
   "metadata": {},
   "outputs": [
    {
     "data": {
      "text/plain": [
       "(<Figure size 720x576 with 4 Axes>,\n",
       " [<matplotlib.axes._subplots.AxesSubplot at 0x155526fa35b0>,\n",
       "  <matplotlib.axes._subplots.AxesSubplot at 0x155526f42ac0>,\n",
       "  <matplotlib.axes._subplots.AxesSubplot at 0x155527112550>,\n",
       "  <matplotlib.axes._subplots.AxesSubplot at 0x155527137fa0>,\n",
       "  <matplotlib.axes._subplots.AxesSubplot at 0x155526fa35b0>,\n",
       "  <matplotlib.axes._subplots.AxesSubplot at 0x155526f42ac0>,\n",
       "  <matplotlib.axes._subplots.AxesSubplot at 0x155527112550>,\n",
       "  <matplotlib.axes._subplots.AxesSubplot at 0x155527137fa0>])"
      ]
     },
     "execution_count": 10,
     "metadata": {},
     "output_type": "execute_result"
    },
    {
     "data": {
      "image/png": "[encoded data removed]",
      "text/plain": [
       "<Figure size 720x576 with 4 Axes>"
      ]
     },
     "metadata": {
      "needs_background": "light"
     },
     "output_type": "display_data"
    }
   ],
   "source": [
    "# produce scores for a, b, c, d\n",
    "NC = 5000\n",
    "NI = 7500\n",
    "\n",
    "tags = ['A', 'B', 'C', 'D']\n",
    "shift_values = [[-2, 2], [-1, 1], [-2.1, 2.1], [-1.9, 1.9]]\n",
    "\n",
    "score_bags_bona = []\n",
    "score_bags_spoof = []\n",
    "eer_bags = []\n",
    "for shift_value_pair in shift_values:\n",
    "    bona_score = np.random.randn(NC) + shift_value_pair[1]\n",
    "    spoof_score = np.random.randn(NC) + shift_value_pair[0]\n",
    "    eer, threshold = get_eer(bona_score, spoof_score)\n",
    "    score_bags_bona.append(bona_score)\n",
    "    score_bags_spoof.append(spoof_score)\n",
    "    eer_bags.append(eer)\n",
    "\n",
    "    \n",
    "# plotting score dist.\n",
    "score_bags = score_bags_bona + score_bags_spoof\n",
    "plot_API.plot_API2(\n",
    "    score_bags_bona + score_bags_spoof, \n",
    "    [plot_lib.plot_hist for x in score_bags],\n",
    "    [[[x%(len(tags)), (x)%(len(tags))+1], [0, 1]] for x in range(len(score_bags))], \n",
    "    {'figsize': (10, 8), 'sharex': True,\n",
    "    'subtitle': \n",
    "     [{'title': 'score dist. of model {:s}, EER {:.3f}\\%'.format(tag, eer*100)} for tag, eer in zip(tags+tags, eer_bags+eer_bags)]})"
   ]
  },
  {
   "cell_type": "markdown",
   "id": "front-punishment",
   "metadata": {},
   "source": [
    "Conduct multiple significance test with Holm-bonferroni correction"
   ]
  },
  {
   "cell_type": "code",
   "execution_count": 11,
   "id": "increasing-possible",
   "metadata": {},
   "outputs": [],
   "source": [
    "# Here, EER = FAR = FRR = HTER\n",
    "# get the z_values\n",
    "\n",
    "z_values = np.zeros([len(tags), len(tags)])\n",
    "for idx1, tag1 in enumerate(tags):\n",
    "    for idx2, tag2 in enumerate(tags):\n",
    "        z_values[idx1, idx2] = compute_z_independent(\n",
    "            eer_bags[idx1], eer_bags[idx1], eer_bags[idx2], eer_bags[idx2], NI, NC)\n"
   ]
  },
  {
   "cell_type": "code",
   "execution_count": 12,
   "id": "transparent-magazine",
   "metadata": {},
   "outputs": [
    {
     "name": "stdout",
     "output_type": "stream",
     "text": [
      "Model A and B's performance significantly different\n",
      "Model A and C's performance not significantly different\n",
      "Model A and D's performance not significantly different\n",
      "Model B and C's performance significantly different\n",
      "Model B and D's performance significantly different\n",
      "Model C and D's performance significantly different\n"
     ]
    }
   ],
   "source": [
    "# Conduct test\n",
    "# Assuming a very conservative approach and treat all the four systems from a single source\n",
    "\n",
    "# input:\n",
    "#  z_values\n",
    "#  significance_levl\n",
    "\n",
    "# output:\n",
    "#  test_output_mat: \n",
    "\n",
    "significance_level = 0.05\n",
    "test_output_mat = reject_null_holm_bonferroni(z_values, z_values.size, significance_level)\n",
    "\n",
    "for idx1, tag1 in enumerate(tags):\n",
    "    for idx2, tag2 in enumerate(tags):\n",
    "        if idx1 < idx2:\n",
    "            if test_output_mat[idx1, idx2]:\n",
    "                print(\"Model {:s} and {:s}'s performance not significantly different\".format(tag1, tag2))\n",
    "            else:\n",
    "                print(\"Model {:s} and {:s}'s performance significantly different\".format(tag1, tag2))"
   ]
  },
  {
   "cell_type": "markdown",
   "id": "organic-fever",
   "metadata": {},
   "source": [
    "# Example for ASVspoof and ploting figures"
   ]
  },
  {
   "cell_type": "markdown",
   "id": "random-there",
   "metadata": {},
   "source": [
    "Example below is similar to what we used for ASVspoof CM. \n",
    "\n",
    "We have N systems, each of which ran M times. \n",
    "\n",
    "We can use figures to visualize the significance test results."
   ]
  },
  {
   "cell_type": "code",
   "execution_count": 13,
   "id": "usual-warner",
   "metadata": {},
   "outputs": [],
   "source": [
    "def plot_mat(test_result, system_list, runs,  cmap='RdBu'):\n",
    "    \"\"\"plot_mat(test_result, system_list, runs,  cmap='RdBu')\n",
    "    \n",
    "    input\n",
    "    -----\n",
    "      test_results: np.array, (system_list * runs, system_list * runs)\n",
    "      system_list: list of string, list of the system names\n",
    "      runs: int, number of runs for each system\n",
    "      cmap: cmap for Matpotlib\n",
    "    \"\"\"\n",
    "    ticklabels = range(len(system_list) * runs)[runs//2::runs]            \n",
    "    \n",
    "    total=len(system_list)*runs\n",
    "    temp_lines = np.linspace(0, len(system_list)*runs, len(system_list)+1)\n",
    "    data_list = [np.stack([np.array([0-.5, total-0.5]), np.array([x-0.5, x-0.5])], axis=1) for x in temp_lines]\n",
    "    data_list = data_list + [np.stack([np.array([x-0.5, x-0.5]), np.array([0-.5, total-0.5])], axis=1) for x in temp_lines]\n",
    "    data_list = data_list + [np.stack([np.array([0-0.5, total-0.5]), np.array([0-.5, total-0.5])], axis=1)]\n",
    "    \n",
    "    print(temp_lines)\n",
    "    fig, axis = plot_API.plot_API2([test_result, data_list], [plot_lib.plot_imshow, plot_lib.plot_signal], [[[0,1],[0,1]], [[0,1],[0,1]]], \n",
    "                      {'figsize': (10, 10),\n",
    "                       'sub': [\n",
    "                       {'plot_imshow': {'cmap': cmap, 'origin': 'lower', 'aspect':'auto', 'interpolation': 'nearest'},\n",
    "                       'yticks': ticklabels,\n",
    "                       'yticklabels': {'labels': system_list, 'rotation': 0},\n",
    "                       'xticks': ticklabels,\n",
    "                       'xticklabels': {'labels': system_list, 'rotation': 90},\n",
    "                       #'xlim': (-0.5, total-0.5),\n",
    "                       #'ylim': (-0.5, total-0.5)\n",
    "                       },\n",
    "                       {'plot_signal': {'color': 'k', 'linewidth': 2.0, 'alpha':1.0}},]})\n",
    "    return fig, axis"
   ]
  },
  {
   "cell_type": "markdown",
   "id": "inclusive-vertex",
   "metadata": {},
   "source": [
    "## Preparation: simulate the score distributions for a new systems, compute EERs"
   ]
  },
  {
   "cell_type": "code",
   "execution_count": 14,
   "id": "naughty-catering",
   "metadata": {},
   "outputs": [],
   "source": [
    "# produce scores for system 1 - 12\n",
    "# and assume each system is trained/evaluated for 4 times\n",
    "NC = 5000\n",
    "NI = 7500\n",
    "runs = 6\n",
    "\n",
    "tags = ['system {:d}'.format(x) for x in range(12)]\n",
    "\n",
    "# create data for the 12 systems \n",
    "#  use Gaussian with different means\n",
    "shift_values = [[-2, 2], [-2, 2], [-2.01, 2.01], [-1.9, 1.9], \n",
    "                [-2.2, -2.1], [-2.1, -2.4], [-4.2, -1.2], [-3.8, -1.8],\n",
    "                [-2.2, -2.1], [-2.1, -2.4], [-4.2, -1.2], [-3.8, -1.8],]\n",
    "score_bags_bona = []\n",
    "score_bags_spoof = []\n",
    "\n",
    "eer_bags = np.zeros([len(shift_values), runs])\n",
    "for sys_idx, shift_value_pair in enumerate(shift_values):\n",
    "    for run_idx in range(runs):\n",
    "        bona_score = np.random.randn(NC) + shift_value_pair[1]\n",
    "        spoof_score = np.random.randn(NC) + shift_value_pair[0]\n",
    "        eer, threshold = get_eer(bona_score, spoof_score)\n",
    "        score_bags_bona.append(bona_score)\n",
    "        score_bags_spoof.append(spoof_score)\n",
    "        eer_bags[sys_idx, run_idx ] = eer\n",
    "    "
   ]
  },
  {
   "cell_type": "code",
   "execution_count": 15,
   "id": "confident-electron",
   "metadata": {},
   "outputs": [
    {
     "name": "stdout",
     "output_type": "stream",
     "text": [
      "[[0.023  0.0256 0.0228 0.0212 0.0226 0.0264]\n",
      " [0.0222 0.0234 0.02   0.0178 0.0242 0.022 ]\n",
      " [0.0222 0.0216 0.0224 0.0244 0.0212 0.0232]\n",
      " [0.0312 0.0292 0.0278 0.0276 0.0278 0.0258]\n",
      " [0.4822 0.482  0.4788 0.486  0.4832 0.477 ]\n",
      " [0.5614 0.5598 0.5666 0.5596 0.5568 0.5558]\n",
      " [0.0702 0.0678 0.0712 0.0666 0.0632 0.066 ]\n",
      " [0.1606 0.1582 0.1558 0.152  0.1602 0.1558]\n",
      " [0.4764 0.479  0.4806 0.4716 0.4876 0.4842]\n",
      " [0.5672 0.553  0.5638 0.5552 0.5624 0.5612]\n",
      " [0.0662 0.0656 0.0628 0.071  0.0642 0.0622]\n",
      " [0.1586 0.151  0.1546 0.1526 0.1602 0.1604]]\n",
      "(12, 6)\n"
     ]
    }
   ],
   "source": [
    "print(eer_bags)\n",
    "print(eer_bags.shape)\n",
    "# 12 systems, 6 runs per system"
   ]
  },
  {
   "cell_type": "code",
   "execution_count": 16,
   "id": "continent-scientist",
   "metadata": {},
   "outputs": [
    {
     "data": {
      "text/plain": [
       "(<Figure size 720x360 with 1 Axes>,\n",
       " <matplotlib.axes._subplots.AxesSubplot at 0x155527099bb0>)"
      ]
     },
     "execution_count": 16,
     "metadata": {},
     "output_type": "execute_result"
    },
    {
     "data": {
      "image/png": "[encoded data removed]",
      "text/plain": [
       "<Figure size 720x360 with 1 Axes>"
      ]
     },
     "metadata": {
      "needs_background": "light"
     },
     "output_type": "display_data"
    }
   ],
   "source": [
    "plot_API.plot_API(eer_bags.mean(axis=1) * 100, plot_lib.plot_bar, 'single', \n",
    "                  {'xticks': range(eer_bags.shape[0]), 'xticklabels': tags, 'ylabel': 'EER (\\%)', 'title': 'Mean EER over multiple runs'})"
   ]
  },
  {
   "cell_type": "markdown",
   "id": "informative-progressive",
   "metadata": {},
   "source": [
    "Once we know the EERs per systems, we can conduct significance test"
   ]
  },
  {
   "cell_type": "markdown",
   "id": "amber-negotiation",
   "metadata": {},
   "source": [
    "## Method 1: Multiple tests within a pair of systems\n",
    "\n",
    "Given EERs, compute z_values in a pair-wise way"
   ]
  },
  {
   "cell_type": "code",
   "execution_count": 17,
   "id": "quiet-extraction",
   "metadata": {},
   "outputs": [],
   "source": [
    "def sig_test_holm_bonf_method1(eer_bags, NI, NC, significance_level=0.05):\n",
    "    \"\"\" test_results = sig_test_holm_bonf_method1(eer_bags, sig_level, NI, NC):\n",
    "    \n",
    "    Args:\n",
    "      eer_bags: np.array, shape (N, M), where N is the number of systems, and M is the number of \n",
    "          random runs\n",
    "      NI: int, number of bona fide trials in test set\n",
    "      NC: int, number of spoofed trials in test set\n",
    "      sig_level: float, significance level, default 0.05\n",
    "      \n",
    "    Return:\n",
    "      test_results: np.array, shape (N*M, N*M), \n",
    "           test_results[i*M+j, l*M+n] shows the significance test between the j-th run of i-th system\n",
    "           and the n-th run of the l-th system\n",
    "    \n",
    "    Note: \n",
    "      test_results[i*M+j, l*M+n] == True: accept NULL hypothesis, no significant different\n",
    "    \"\"\"\n",
    "    # get the reject/accept\n",
    "    #significance_level = 0.05\n",
    "\n",
    "    num_system = eer_bags.shape[0]\n",
    "    runs = eer_bags.shape[1]\n",
    "    \n",
    "    z_values = np.zeros([num_system * runs, num_system * runs])\n",
    "    test_results = np.zeros(z_values.shape)\n",
    "\n",
    "    for sys_1_idx in range(num_system):\n",
    "        for sys_2_idx in range(num_system):\n",
    "            # compute z_values \n",
    "            # significance test must be conducted within this pair of system\n",
    "            z_value_tmp = np.zeros([runs, runs])\n",
    "            for run_idx1 in range(runs):\n",
    "                for run_idx2 in range(runs):\n",
    "                    idx1 = sys_1_idx * runs + run_idx1\n",
    "                    idx2 = sys_2_idx * runs + run_idx2\n",
    "                    z_values[idx1, idx2] = compute_z_independent(\n",
    "                        eer_bags[sys_1_idx, run_idx1], \n",
    "                        eer_bags[sys_1_idx, run_idx1], \n",
    "                        eer_bags[sys_2_idx, run_idx2], \n",
    "                        eer_bags[sys_2_idx, run_idx2], \n",
    "                        NI, NC)\n",
    "                    z_value_tmp[run_idx1, run_idx2] = z_values[idx1, idx2]\n",
    "            # do a test\n",
    "            test_result_tmp = reject_null_holm_bonferroni(z_value_tmp, z_value_tmp.size, significance_level)\n",
    "            # save results\n",
    "            test_results[sys_1_idx * runs : (sys_1_idx + 1) * runs, sys_2_idx * runs : (sys_2_idx + 1) * runs] = test_result_tmp\n",
    "    return test_results"
   ]
  },
  {
   "cell_type": "code",
   "execution_count": 18,
   "id": "bigger-handling",
   "metadata": {},
   "outputs": [],
   "source": [
    "# conduct the test\n",
    "test_results = sig_test_holm_bonf_method1(eer_bags, NI, NC, 0.05)"
   ]
  },
  {
   "cell_type": "code",
   "execution_count": 19,
   "id": "chicken-robin",
   "metadata": {},
   "outputs": [
    {
     "data": {
      "text/plain": [
       "<matplotlib.image.AxesImage at 0x155526ffaf40>"
      ]
     },
     "execution_count": 19,
     "metadata": {},
     "output_type": "execute_result"
    },
    {
     "data": {
      "image/png": "[encoded data removed]",
      "text/plain": [
       "<Figure size 720x360 with 1 Axes>"
      ]
     },
     "metadata": {
      "needs_background": "light"
     },
     "output_type": "display_data"
    }
   ],
   "source": [
    "# you can plot this matrix using imshow\n",
    "import matplotlib.pyplot as plt\n",
    "plt.imshow(test_results, origin='low')"
   ]
  },
  {
   "cell_type": "code",
   "execution_count": 20,
   "id": "moved-filing",
   "metadata": {},
   "outputs": [
    {
     "name": "stdout",
     "output_type": "stream",
     "text": [
      "[ 0.  6. 12. 18. 24. 30. 36. 42. 48. 54. 60. 66. 72.]\n"
     ]
    },
    {
     "data": {
      "image/png": "[encoded data removed]",
      "text/plain": [
       "<Figure size 720x720 with 1 Axes>"
      ]
     },
     "metadata": {
      "needs_background": "light"
     },
     "output_type": "display_data"
    }
   ],
   "source": [
    "# I use a wrapper function to plot it\n",
    "# create a customized colormap (I used some customized colors)\n",
    "from matplotlib.colors import ListedColormap\n",
    "newcolors = np.stack([plot_API.get_color(4, 5, 'self_3')*0.6, plot_API.get_color(0, 2, 'self_3')], axis=0)\n",
    "newcmp = ListedColormap(newcolors)\n",
    "\n",
    "# or you can use Matplotlib colormap\n",
    "#newcmp = 'Greys_r'\n",
    "\n",
    "fig, axis = plot_mat(test_results, tags, runs, newcmp)"
   ]
  },
  {
   "cell_type": "markdown",
   "id": "continued-lucas",
   "metadata": {},
   "source": [
    "In the above figure, a white dot indicates 'we cannot reject null hypothesis, and two pair of EERs not significantly different'\n",
    "\n",
    "As expected, system 0, 1, 2 are not significantly different across the 6 runs.\n",
    "\n",
    "Some other systems pairs, such as system 4 and 8, 5 and 9, 6 and 10, and 7 and 11 are not significantly different."
   ]
  },
  {
   "cell_type": "markdown",
   "id": "suspected-discharge",
   "metadata": {},
   "source": [
    "## Method 2: We assume all the tests are in the same family \n",
    "\n",
    "(very conservative approach)"
   ]
  },
  {
   "cell_type": "code",
   "execution_count": 21,
   "id": "reverse-broad",
   "metadata": {},
   "outputs": [],
   "source": [
    "def sig_test_holm_bonf_method2(eer_bags, NI, NC, significance_level=0.05):\n",
    "    \"\"\" test_results = sig_test_holm_bonf_method2(eer_bags, sig_level, NI, NC):\n",
    "    \n",
    "    Args:\n",
    "      eer_bags: np.array, shape (N, M), where N is the number of systems, and M is the number of \n",
    "          random runs\n",
    "      NI: int, number of bona fide trials in test set\n",
    "      NC: int, number of spoofed trials in test set\n",
    "      sig_level: float, significance level, default 0.05\n",
    "      \n",
    "    Return:\n",
    "      test_results: np.array, shape (N*M, N*M), \n",
    "           test_results[i*M+j, l*M+n] shows the significance test between the j-th run of i-th system\n",
    "           and the n-th run of the l-th system\n",
    "    \n",
    "    Note: \n",
    "      test_results[i*M+j, l*M+n] == True: accept NULL hypothesis, no significant different\n",
    "    \"\"\"\n",
    "    # get the reject/accept\n",
    "    #significance_level = 0.05\n",
    "\n",
    "    num_system = eer_bags.shape[0]\n",
    "    runs = eer_bags.shape[1]\n",
    "    \n",
    "    z_values = np.zeros([num_system * runs, num_system * runs])\n",
    "    test_results = np.zeros(z_values.shape)\n",
    "\n",
    "    for sys_1_idx in range(num_system):\n",
    "        for sys_2_idx in range(num_system):\n",
    "            # compute z_values \n",
    "            # significance test must be conducted within this pair of system\n",
    "            z_value_tmp = np.zeros([runs, runs])\n",
    "            for run_idx1 in range(runs):\n",
    "                for run_idx2 in range(runs):\n",
    "                    idx1 = sys_1_idx * runs + run_idx1\n",
    "                    idx2 = sys_2_idx * runs + run_idx2\n",
    "                    z_values[idx1, idx2] = compute_z_independent(\n",
    "                        eer_bags[sys_1_idx, run_idx1], \n",
    "                        eer_bags[sys_1_idx, run_idx1], \n",
    "                        eer_bags[sys_2_idx, run_idx2], \n",
    "                        eer_bags[sys_2_idx, run_idx2], \n",
    "                        NI, NC)\n",
    "                    z_value_tmp[run_idx1, run_idx2] = z_values[idx1, idx2]\n",
    "    # save results\n",
    "    test_results = reject_null_holm_bonferroni(z_values, z_values.size, significance_level)\n",
    "    return test_results"
   ]
  },
  {
   "cell_type": "code",
   "execution_count": 22,
   "id": "opposite-trigger",
   "metadata": {},
   "outputs": [],
   "source": [
    "# get the reject/accept\n",
    "significance_level = 0.05\n",
    "test_results = sig_test_holm_bonf_method2(eer_bags, NI, NC, significance_level)"
   ]
  },
  {
   "cell_type": "code",
   "execution_count": 23,
   "id": "internal-christmas",
   "metadata": {},
   "outputs": [
    {
     "name": "stdout",
     "output_type": "stream",
     "text": [
      "[ 0.  6. 12. 18. 24. 30. 36. 42. 48. 54. 60. 66. 72.]\n"
     ]
    },
    {
     "data": {
      "image/png": "[encoded data removed]",
      "text/plain": [
       "<Figure size 720x720 with 1 Axes>"
      ]
     },
     "metadata": {
      "needs_background": "light"
     },
     "output_type": "display_data"
    }
   ],
   "source": [
    "# create a customized colormap (I used some colors)\n",
    "from matplotlib.colors import ListedColormap\n",
    "newcolors = np.stack([plot_API.get_color(4, 5, 'self_3')*0.6, plot_API.get_color(0, 2, 'self_3')], axis=0)\n",
    "newcmp = ListedColormap(newcolors)\n",
    "\n",
    "# or you can use Matplotlib colormap\n",
    "#newcmp = 'Greys_r'\n",
    "\n",
    "fig, axis = plot_mat(test_results, tags, runs, newcmp)"
   ]
  },
  {
   "cell_type": "markdown",
   "id": "better-information",
   "metadata": {},
   "source": [
    "This method is more conservative. It is more restrict to reject the null hypothesis.\n",
    "\n",
    "Thus, we see more white dots when comparing system3 with either system 0, 1, 2"
   ]
  }
 ],
 "metadata": {
  "kernelspec": {
   "display_name": "Python 3",
   "language": "python",
   "name": "python3"
  },
  "language_info": {
   "codemirror_mode": {
    "name": "ipython",
    "version": 3
   },
   "file_extension": ".py",
   "mimetype": "text/x-python",
   "name": "python",
   "nbconvert_exporter": "python",
   "pygments_lexer": "ipython3",
   "version": "3.8.3"
  }
 },
 "nbformat": 4,
 "nbformat_minor": 5
}
